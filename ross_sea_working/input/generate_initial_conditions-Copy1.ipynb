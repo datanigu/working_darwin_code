{
 "cells": [
  {
   "cell_type": "code",
   "execution_count": 1,
   "metadata": {},
   "outputs": [],
   "source": [
    "using NetCDF, Serialization, Interpolations"
   ]
  },
  {
   "cell_type": "code",
   "execution_count": 2,
   "metadata": {},
   "outputs": [],
   "source": [
    "pwoa18 = \"/home/zhenwu/micklab_zhenwu/Input/woa18_all.nc\"\n",
    "temp = ncread(pwoa18, \"temperature\", start=[1,1,1,1], count=[-1,-1,-1,-1])\n",
    "o2 = ncread(pwoa18, \"oxygen\", start=[1,1,1,1], count=[-1,-1,-1,-1])\n",
    "salt = ncread(pwoa18, \"salinity\", start=[1,1,1,1], count=[-1,-1,-1,-1])\n",
    "nitr = ncread(pwoa18, \"nitrate\", start=[1,1,1,1], count=[-1,-1,-1,-1])[:,:,1:43,:]\n",
    "phos = ncread(pwoa18, \"phosphate\", start=[1,1,1,1], count=[-1,-1,-1,-1])[:,:,1:43,:]\n",
    "si = ncread(pwoa18, \"silicate\", start=[1,1,1,1], count=[-1,-1,-1,-1])[:,:,1:43,:];"
   ]
  },
  {
   "cell_type": "code",
   "execution_count": 3,
   "metadata": {},
   "outputs": [],
   "source": [
    "temp[findall(x -> x > 1e30, temp)] .= 0.0;\n",
    "o2[findall(x -> x > 1e30, o2)] .= 0.0;\n",
    "salt[findall(x -> x > 1e30, salt)] .= 0.0;\n",
    "nitr[findall(x -> x > 1e30, nitr)] .= 0.0;\n",
    "phos[findall(x -> x > 1e30, phos)] .= 0.0;\n",
    "si[findall(x -> x > 1e30, si)] .= 0.0;"
   ]
  },
  {
   "cell_type": "code",
   "execution_count": 4,
   "metadata": {},
   "outputs": [],
   "source": [
    "depth = ncread(pwoa18, \"depth\", start=[1], count=[-1]);"
   ]
  },
  {
   "cell_type": "code",
   "execution_count": 5,
   "metadata": {},
   "outputs": [],
   "source": [
    "grid_3d_dr = \"/home/zhenwu/micklab_zhenwu/Darwin_35+16_original/run_original/run_original/result_original/grid.nc\";\n",
    "depth_3d=ncread(grid_3d_dr,\"Z\",start=[1],count=[-1]);\n",
    "grid_1d_dr = \"/home/zhenwu/micklab_zhenwu/gud_exudation/bats_2+1_50_layers/run_1003/diags_20191003_0001/grid.t001.nc\";\n",
    "depth_1d=ncread(grid_1d_dr,\"Z\",start=[1],count=[-1]);"
   ]
  },
  {
   "cell_type": "code",
   "execution_count": 6,
   "metadata": {},
   "outputs": [
    {
     "data": {
      "text/plain": [
       "extrac_bats (generic function with 1 method)"
      ]
     },
     "execution_count": 6,
     "metadata": {},
     "output_type": "execute_result"
    }
   ],
   "source": [
    "function extrac_bats(data) # only January\n",
    "    tmp = zeros(Float32,size(data,3))\n",
    "    for i in 1:3\n",
    "        for j in 1:3\n",
    "            tmp .= tmp .+ data[179+i,4+j,:,1] # location you want to extract, starting at 0E, 80S\n",
    "        end\n",
    "    end\n",
    "    tmp .= tmp ./9\n",
    "    return tmp\n",
    "end"
   ]
  },
  {
   "cell_type": "code",
   "execution_count": 7,
   "metadata": {},
   "outputs": [
    {
     "data": {
      "text/plain": [
       "itplt800 (generic function with 1 method)"
      ]
     },
     "execution_count": 7,
     "metadata": {},
     "output_type": "execute_result"
    }
   ],
   "source": [
    "function itplt800(a)\n",
    "    b = zeros(Float32, 50)\n",
    "    itp = interpolate((depth[1:43],), a, Gridded(Linear()));\n",
    "    etp = extrapolate(itp, Flat())\n",
    "    for k in 1:50\n",
    "        if -depth_1d[k]<800\n",
    "            b[k]=itp(-depth_1d[k])\n",
    "        else\n",
    "            b[k]=etp(-depth_1d[k])\n",
    "        end\n",
    "    end\n",
    "    return b\n",
    "end"
   ]
  },
  {
   "cell_type": "code",
   "execution_count": 8,
   "metadata": {},
   "outputs": [
    {
     "data": {
      "text/plain": [
       "itplt1500 (generic function with 1 method)"
      ]
     },
     "execution_count": 8,
     "metadata": {},
     "output_type": "execute_result"
    }
   ],
   "source": [
    "function itplt1500(a)\n",
    "    b = zeros(Float32, 50)\n",
    "    itp = interpolate((depth,), a, Gridded(Linear()));\n",
    "    etp = extrapolate(itp, Flat())\n",
    "    for k in 1:50\n",
    "        if -depth_1d[k]<1500\n",
    "            b[k]=itp(-depth_1d[k])\n",
    "        else\n",
    "            b[k]=etp(-depth_1d[k])\n",
    "        end\n",
    "    end\n",
    "    return b\n",
    "end"
   ]
  },
  {
   "cell_type": "code",
   "execution_count": 9,
   "metadata": {},
   "outputs": [],
   "source": [
    "temp_jan_bats = itplt1500(extrac_bats(temp));\n",
    "salt_jan_bats = itplt1500(extrac_bats(salt));\n",
    "o2_jan_bats = itplt1500(extrac_bats(o2));\n",
    "nitr_jan_bats = itplt800(extrac_bats(nitr));\n",
    "phos_jan_bats = itplt800(extrac_bats(phos));\n",
    "si_jan_bats = itplt800(extrac_bats(si));"
   ]
  },
  {
   "cell_type": "code",
   "execution_count": 10,
   "metadata": {},
   "outputs": [],
   "source": [
    "foutput = \"/nobackup1/stephdut/GUD_20151027/run15_151_grazsame3_new/MONTHS/3d.0000026160.nc\"\n",
    "DIC = ncread(foutput,\"TRAC01\",start=[1,1,1,1],count=[-1,-1,-1,-1])[:,:,:,1];\n",
    "NH4 = ncread(foutput,\"TRAC02\",start=[1,1,1,1],count=[-1,-1,-1,-1])[:,:,:,1];\n",
    "NO2 = ncread(foutput,\"TRAC03\",start=[1,1,1,1],count=[-1,-1,-1,-1])[:,:,:,1];\n",
    "FeT = ncread(foutput,\"TRAC07\",start=[1,1,1,1],count=[-1,-1,-1,-1])[:,:,:,1];\n",
    "DOC = ncread(foutput,\"TRAC08\",start=[1,1,1,1],count=[-1,-1,-1,-1])[:,:,:,1];\n",
    "DON = ncread(foutput,\"TRAC09\",start=[1,1,1,1],count=[-1,-1,-1,-1])[:,:,:,1];\n",
    "DOP = ncread(foutput,\"TRAC10\",start=[1,1,1,1],count=[-1,-1,-1,-1])[:,:,:,1];\n",
    "DOFe = ncread(foutput,\"TRAC11\",start=[1,1,1,1],count=[-1,-1,-1,-1])[:,:,:,1];\n",
    "POC = ncread(foutput,\"TRAC12\",start=[1,1,1,1],count=[-1,-1,-1,-1])[:,:,:,1];\n",
    "PON = ncread(foutput,\"TRAC13\",start=[1,1,1,1],count=[-1,-1,-1,-1])[:,:,:,1];\n",
    "POP = ncread(foutput,\"TRAC14\",start=[1,1,1,1],count=[-1,-1,-1,-1])[:,:,:,1];\n",
    "POSi = ncread(foutput,\"TRAC15\",start=[1,1,1,1],count=[-1,-1,-1,-1])[:,:,:,1];\n",
    "POFe = ncread(foutput,\"TRAC16\",start=[1,1,1,1],count=[-1,-1,-1,-1])[:,:,:,1];\n",
    "PIC = ncread(foutput,\"TRAC17\",start=[1,1,1,1],count=[-1,-1,-1,-1])[:,:,:,1];\n",
    "ALK = ncread(foutput,\"TRAC18\",start=[1,1,1,1],count=[-1,-1,-1,-1])[:,:,:,1];\n",
    "BIO = ncread(foutput,\"TRAC21\",start=[1,1,1,1],count=[-1,-1,-1,-1])[:,:,:,1];"
   ]
  },
  {
   "cell_type": "code",
   "execution_count": 11,
   "metadata": {},
   "outputs": [
    {
     "data": {
      "text/plain": [
       "itplt23 (generic function with 1 method)"
      ]
     },
     "execution_count": 11,
     "metadata": {},
     "output_type": "execute_result"
    }
   ],
   "source": [
    "function itplt23(a)\n",
    "    b = zeros(Float32, 50)\n",
    "    itp = interpolate((-depth_3d,), a, Gridded(Linear()));\n",
    "    etp = extrapolate(itp, Flat())\n",
    "    for k in 1:50\n",
    "        if -depth_1d[k]≤5400\n",
    "            b[k]=itp(-depth_1d[k])\n",
    "        else\n",
    "            b[k]=etp(-depth_1d[k])\n",
    "        end\n",
    "    end\n",
    "    return b\n",
    "end"
   ]
  },
  {
   "cell_type": "code",
   "execution_count": 12,
   "metadata": {},
   "outputs": [],
   "source": [
    "DIC_jan_bats = itplt23(extrac_bats(DIC));\n",
    "NH4_jan_bats = itplt23(extrac_bats(NH4));\n",
    "NO2_jan_bats = itplt23(extrac_bats(NO2));\n",
    "FeT_jan_bats = itplt23(extrac_bats(FeT));\n",
    "DOC_jan_bats = itplt23(extrac_bats(DOC));\n",
    "DON_jan_bats = itplt23(extrac_bats(DON));\n",
    "DOP_jan_bats = itplt23(extrac_bats(DOP));\n",
    "DOFe_jan_bats = itplt23(extrac_bats(DOFe));\n",
    "POC_jan_bats = itplt23(extrac_bats(POC));\n",
    "PON_jan_bats = itplt23(extrac_bats(PON));\n",
    "POP_jan_bats = itplt23(extrac_bats(POP));\n",
    "POSi_jan_bats = itplt23(extrac_bats(POSi));\n",
    "POFe_jan_bats = itplt23(extrac_bats(POFe));\n",
    "PIC_jan_bats = itplt23(extrac_bats(PIC));\n",
    "ALK_jan_bats = itplt23(extrac_bats(ALK));\n",
    "BIO_jan_bats = itplt23(extrac_bats(BIO));"
   ]
  },
  {
   "cell_type": "code",
   "execution_count": 13,
   "metadata": {},
   "outputs": [
    {
     "data": {
      "text/plain": [
       "writebin (generic function with 1 method)"
      ]
     },
     "execution_count": 13,
     "metadata": {},
     "output_type": "execute_result"
    }
   ],
   "source": [
    "function writebin(fr,b)\n",
    "    b .= hton.(Float32.(b))\n",
    "    io = open(fr, \"w\")\n",
    "    write(io, Float32.(b))\n",
    "    close(io)\n",
    "end"
   ]
  },
  {
   "cell_type": "code",
   "execution_count": 49,
   "metadata": {},
   "outputs": [],
   "source": [
    "writebin(\"../ross_sea_input/ross_temp_janprof.bin\",temp_jan_bats);\n",
    "writebin(\"../ross_sea_input/ross_salt_janprof.bin\",salt_jan_bats);\n",
    "writebin(\"../ross_sea_input/ross_DIC_janprof.bin\",DIC_jan_bats);\n",
    "writebin(\"../ross_sea_input/ross_NH4_janprof.bin\",NH4_jan_bats);\n",
    "writebin(\"../ross_sea_input/ross_NO2_janprof.bin\",NO2_jan_bats);\n",
    "writebin(\"../ross_sea_input/ross_nitr_janprof.bin\",nitr_jan_bats);\n",
    "writebin(\"../ross_sea_input/ross_phos_janprof.bin\",phos_jan_bats);\n",
    "writebin(\"../ross_sea_input/ross_sil_janprof.bin\",si_jan_bats);\n",
    "writebin(\"../ross_sea_input/ross_FeT_janprof.bin\",FeT_jan_bats);\n",
    "writebin(\"../ross_sea_input/ross_DOC_janprof.bin\",DOC_jan_bats);\n",
    "writebin(\"../ross_sea_input/ross_DON_janprof.bin\",DON_jan_bats);\n",
    "writebin(\"../ross_sea_input/ross_DOP_janprof.bin\",DOP_jan_bats);\n",
    "writebin(\"../ross_sea_input/ross_DOFe_janprof.bin\",DOFe_jan_bats);\n",
    "writebin(\"../ross_sea_input/ross_POC_janprof.bin\",POC_jan_bats);\n",
    "writebin(\"../ross_sea_input/ross_PON_janprof.bin\",PON_jan_bats);\n",
    "writebin(\"../ross_sea_input/ross_POP_janprof.bin\",POP_jan_bats);\n",
    "writebin(\"../ross_sea_input/ross_POFe_janprof.bin\",POFe_jan_bats);\n",
    "writebin(\"../ross_sea_input/ross_POSi_janprof.bin\",POSi_jan_bats);\n",
    "writebin(\"../ross_sea_input/ross_PIC_janprof.bin\",PIC_jan_bats);\n",
    "writebin(\"../ross_sea_input/ross_ALK_janprof.bin\",ALK_jan_bats);\n",
    "writebin(\"../ross_sea_input/ross_o2_janprof.bin\",o2_jan_bats);\n",
    "writebin(\"../ross_sea_input/ross_B_janprof.bin\",BIO_jan_bats);"
   ]
  },
  {
   "cell_type": "code",
   "execution_count": 17,
   "metadata": {},
   "outputs": [
    {
     "data": {
      "text/plain": [
       "extrac_surf (generic function with 1 method)"
      ]
     },
     "execution_count": 17,
     "metadata": {},
     "output_type": "execute_result"
    }
   ],
   "source": [
    "function extrac_surf(data) # 12 months\n",
    "    tmp = zeros(Float32,12)\n",
    "    for i in 1:3\n",
    "        for j in 1:3\n",
    "            tmp .= tmp .+ data[179+i,4+j,1,:] # location you want to extract\n",
    "        end\n",
    "    end\n",
    "    tmp .= tmp ./9\n",
    "    return tmp\n",
    "end"
   ]
  },
  {
   "cell_type": "code",
   "execution_count": 20,
   "metadata": {},
   "outputs": [],
   "source": [
    "temp_surf = extrac_surf(temp);\n",
    "salt_surf = extrac_surf(salt);"
   ]
  },
  {
   "cell_type": "code",
   "execution_count": 21,
   "metadata": {},
   "outputs": [],
   "source": [
    "writebin(\"../ross_sea_input/ross_temp_surf.bin\",temp_surf);\n",
    "writebin(\"../ross_sea_input/ross_salt_surf.bin\",salt_surf);"
   ]
  },
  {
   "cell_type": "code",
   "execution_count": null,
   "metadata": {},
   "outputs": [],
   "source": []
  }
 ],
 "metadata": {
  "kernelspec": {
   "display_name": "Julia 1.5.3",
   "language": "julia",
   "name": "julia-1.5"
  },
  "language_info": {
   "file_extension": ".jl",
   "mimetype": "application/julia",
   "name": "julia",
   "version": "1.5.3"
  }
 },
 "nbformat": 4,
 "nbformat_minor": 4
}
