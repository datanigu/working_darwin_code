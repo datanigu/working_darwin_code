{
 "cells": [
  {
   "cell_type": "code",
   "execution_count": 1,
   "metadata": {},
   "outputs": [],
   "source": [
    "using Serialization, PyPlot, Statistics, NetCDF, DelimitedFiles"
   ]
  },
  {
   "cell_type": "code",
   "execution_count": 2,
   "metadata": {},
   "outputs": [
    {
     "data": {
      "text/plain": [
       "writebin (generic function with 1 method)"
      ]
     },
     "execution_count": 2,
     "metadata": {},
     "output_type": "execute_result"
    }
   ],
   "source": [
    "function writebin(fr,b)\n",
    "    b .= hton.(Float32.(b))\n",
    "    io = open(fr, \"w\")\n",
    "    write(io, Float32.(b))\n",
    "    close(io)\n",
    "end"
   ]
  },
  {
   "cell_type": "code",
   "execution_count": 3,
   "metadata": {},
   "outputs": [],
   "source": [
    "f_fe = open(\"/home/stephdut/Input/input_ecco/mahowald2009_solubile_current_smooth_oce_mth-2d.bin\",\"r\");\n",
    "f_par = open(\"/home/stephdut/Input/input_ecco/ecco_oasim_total_below_oneband_einm2d.bin\",\"r\");\n",
    "f_taux = open(\"/home/zhenwu/Input/taux.bin\")\n",
    "f_tauy = open(\"/home/zhenwu/Input/tauy.bin\");"
   ]
  },
  {
   "cell_type": "code",
   "execution_count": 4,
   "metadata": {},
   "outputs": [],
   "source": [
    "FeFlux = zeros(Float32,160*360*12);\n",
    "read!(f_fe,FeFlux);\n",
    "close(f_fe)\n",
    "FeFlux .= ntoh.(FeFlux)\n",
    "FeFlux = reshape(FeFlux,360,160,12);\n",
    "\n",
    "PAR = zeros(Float32,160*360*12);\n",
    "read!(f_par,PAR);\n",
    "close(f_par)\n",
    "PAR .= ntoh.(PAR)\n",
    "PAR = reshape(PAR,360,160,12);\n",
    "\n",
    "taux_mon_mean = zeros(Float32,160*360*12);\n",
    "read!(f_taux,taux_mon_mean);\n",
    "close(f_taux)\n",
    "taux_mon_mean .= ntoh.(taux_mon_mean)\n",
    "taux_mon_mean = reshape(taux_mon_mean,360,160,12);\n",
    "\n",
    "tauy_mon_mean = zeros(Float32,160*360*12);\n",
    "read!(f_tauy,tauy_mon_mean);\n",
    "close(f_tauy)\n",
    "tauy_mon_mean .= ntoh.(tauy_mon_mean)\n",
    "tauy_mon_mean = reshape(tauy_mon_mean,360,160,12);"
   ]
  },
  {
   "cell_type": "code",
   "execution_count": 5,
   "metadata": {},
   "outputs": [],
   "source": [
    "taux_bats = zeros(Float32,12);\n",
    "tauy_bats = zeros(Float32,12);\n",
    "Fe_bats = zeros(Float32,12);\n",
    "PAR_bats = zeros(Float32,12);\n",
    "for k in 1:12\n",
    "    xb = 0.0; yb = 0.0;\n",
    "    Feb = 0.0; PARb = 0.0;\n",
    "    for i in 1:3\n",
    "        for j in 1:3\n",
    "            xb = xb + taux_mon_mean[179+i,4+j,k] # location you want to extract\n",
    "            yb = yb + tauy_mon_mean[179+i,4+j,k]\n",
    "            Feb = Feb + FeFlux[179+i,4+j,k]\n",
    "            PARb = PARb + PAR[179+i,4+j,k]\n",
    "        end\n",
    "    end\n",
    "    taux_bats[k] = xb / 9\n",
    "    tauy_bats[k] = yb / 9\n",
    "    Fe_bats[k] = Feb / 9\n",
    "    PAR_bats[k] = PARb / 9\n",
    "end"
   ]
  },
  {
   "cell_type": "code",
   "execution_count": 10,
   "metadata": {},
   "outputs": [],
   "source": [
    "writebin(\"../ross_sea_input/ross_taux.bin\",taux_bats)\n",
    "writebin(\"../ross_sea_input/ross_tauy.bin\",tauy_bats)\n",
    "writebin(\"../ross_sea_input/ross_PAR.bin\",PAR_bats);\n",
    "writebin(\"../ross_sea_input/ross_FeFlux.bin\",Fe_bats);"
   ]
  },
  {
   "cell_type": "code",
   "execution_count": 11,
   "metadata": {},
   "outputs": [],
   "source": [
    "writebin(\"../ross_sea_input/ross_taux_15x.bin\",taux_bats.*15)\n",
    "writebin(\"../ross_sea_input/ross_tauy_15x.bin\",tauy_bats.*15)"
   ]
  },
  {
   "cell_type": "code",
   "execution_count": null,
   "metadata": {},
   "outputs": [],
   "source": []
  }
 ],
 "metadata": {
  "kernelspec": {
   "display_name": "Julia 1.5.3",
   "language": "julia",
   "name": "julia-1.5"
  },
  "language_info": {
   "file_extension": ".jl",
   "mimetype": "application/julia",
   "name": "julia",
   "version": "1.5.3"
  }
 },
 "nbformat": 4,
 "nbformat_minor": 4
}
